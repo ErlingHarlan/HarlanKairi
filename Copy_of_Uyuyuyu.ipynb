{
  "nbformat": 4,
  "nbformat_minor": 0,
  "metadata": {
    "colab": {
      "provenance": [],
      "authorship_tag": "ABX9TyMER+alBZ0aHOjavxRvRApn",
      "include_colab_link": true
    },
    "kernelspec": {
      "name": "python3",
      "display_name": "Python 3"
    },
    "language_info": {
      "name": "python"
    }
  },
  "cells": [
    {
      "cell_type": "markdown",
      "metadata": {
        "id": "view-in-github",
        "colab_type": "text"
      },
      "source": [
        "<a href=\"https://colab.research.google.com/github/ErlingHarlan/HarlanKairi/blob/main/Copy_of_Uyuyuyu.ipynb\" target=\"_parent\"><img src=\"https://colab.research.google.com/assets/colab-badge.svg\" alt=\"Open In Colab\"/></a>"
      ]
    },
    {
      "cell_type": "code",
      "execution_count": null,
      "metadata": {
        "id": "t9KYirNSU1ab",
        "outputId": "f4cfdf34-77ab-471e-edf1-438ebe641f38",
        "colab": {
          "base_uri": "https://localhost:8080/"
        }
      },
      "outputs": [
        {
          "output_type": "stream",
          "name": "stdout",
          "text": [
            "Lulus\n"
          ]
        }
      ],
      "source": [
        "\n",
        "x = 75\n",
        "if x >= 75 == 75:\n",
        " print ('Lulus')\n",
        "else:\n",
        " print ('Tidak Lulus')"
      ]
    }
  ]
}